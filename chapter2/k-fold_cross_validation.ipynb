{
 "cells": [
  {
   "cell_type": "markdown",
   "metadata": {},
   "source": [
    "## K-fold Cross Validation (K分割交差検定)\n",
    "学習データと評価データとを分けた評価を複数回実施する．\n",
    "学習データと評価データを半分ずつにして評価すると，学習データが少なくなりがちな課題を解消している．"
   ]
  },
  {
   "cell_type": "code",
   "execution_count": 4,
   "metadata": {},
   "outputs": [
    {
     "name": "stdout",
     "output_type": "stream",
     "text": [
      "Ten fold cross-validated error was 73.8%.\n"
     ]
    }
   ],
   "source": [
    "from load import load_dataset\n",
    "import numpy as np\n",
    "from threshold import learn_model, apply_model, accuracy\n",
    "\n",
    "features, labels = load_dataset('seeds')\n",
    "labels = labels == 'Canadian'\n",
    "\n",
    "error = 0.0\n",
    "for fold in range(10):\n",
    "    # 学習に使用するデータを決めるためにBool配列を作成\n",
    "    training = np.ones(len(features), bool)\n",
    "    # 10個毎に0(False)を設定することで，評価用のデータも決められる\n",
    "    # ちなみにfoldが開始位置を規定しているため，forループ毎に変わっている．\n",
    "    training[fold::10] = 0\n",
    "    testing = ~training\n",
    "    model = learn_model(features[training], labels[training])\n",
    "    test_error = accuracy(features[testing], labels[testing], model)\n",
    "    error += test_error\n",
    "\n",
    "error /= 10.0\n",
    "\n",
    "print('Ten fold cross-validated error was {0:.1%}.'.format(error))"
   ]
  }
 ],
 "metadata": {
  "kernelspec": {
   "display_name": "Python 3",
   "language": "python",
   "name": "python3"
  },
  "language_info": {
   "codemirror_mode": {
    "name": "ipython",
    "version": 3
   },
   "file_extension": ".py",
   "mimetype": "text/x-python",
   "name": "python",
   "nbconvert_exporter": "python",
   "pygments_lexer": "ipython3",
   "version": "3.6.1"
  }
 },
 "nbformat": 4,
 "nbformat_minor": 2
}

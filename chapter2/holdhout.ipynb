{
 "cells": [
  {
   "cell_type": "markdown",
   "metadata": {},
   "source": [
    "## 訓練データと評価データを分けて評価する\n",
    "simple_thresholdに続いて，VirginicaとVersicolorの分類を再検討する．\n",
    "分類の評価では，訓練データと評価データを分けるべきである．\n",
    "それは，新しい(未知の)データに対して汎用的な能力を持っているかを評価する必要があるため．"
   ]
  },
  {
   "cell_type": "code",
   "execution_count": 1,
   "metadata": {},
   "outputs": [],
   "source": [
    "from matplotlib import pyplot as plt\n",
    "import numpy as np\n",
    "from sklearn.datasets import load_iris\n",
    "from threshold import learn_model, apply_model, accuracy"
   ]
  },
  {
   "cell_type": "code",
   "execution_count": 2,
   "metadata": {},
   "outputs": [
    {
     "name": "stdout",
     "output_type": "stream",
     "text": [
      "Training error was 96.0%.\n",
      "Testing error was 90.0% (N = 50).\n",
      "\n"
     ]
    }
   ],
   "source": [
    "# データのロード\n",
    "data = load_iris()\n",
    "features = data['data']\n",
    "labels = data['target_names'][data['target']]\n",
    "\n",
    "# setosa種以外の分類を行いたいので，featuresとlabelsを再作成\n",
    "setosa = (labels == 'setosa')\n",
    "features = features[~setosa]\n",
    "labels = labels[~setosa]\n",
    "virginica = (labels == 'virginica')\n",
    "\n",
    "# 評価用と訓練用に分けるためのBool配列を作成\n",
    "testing = np.tile([True, False], 50)\n",
    "training = ~testing\n",
    "\n",
    "# virginicaモデルの学習は訓練データで行う\n",
    "model = learn_model(features[training], virginica[training])\n",
    "# 評価は，訓練データと評価データでそれぞれ行う(比較のため)\n",
    "# 訓練データでの評価結果が高くなっていることに注目\n",
    "train_error = accuracy(features[training], virginica[training], model)\n",
    "test_error = accuracy(features[testing], virginica[testing], model)\n",
    "\n",
    "print('''\\\n",
    "Training error was {0:.1%}.\n",
    "Testing error was {1:.1%} (N = {2}).\n",
    "'''.format(train_error, test_error, testing.sum()))"
   ]
  },
  {
   "cell_type": "code",
   "execution_count": null,
   "metadata": {
    "collapsed": true
   },
   "outputs": [],
   "source": []
  }
 ],
 "metadata": {
  "kernelspec": {
   "display_name": "Python 3",
   "language": "python",
   "name": "python3"
  },
  "language_info": {
   "codemirror_mode": {
    "name": "ipython",
    "version": 3
   },
   "file_extension": ".py",
   "mimetype": "text/x-python",
   "name": "python",
   "nbconvert_exporter": "python",
   "pygments_lexer": "ipython3",
   "version": "3.6.1"
  }
 },
 "nbformat": 4,
 "nbformat_minor": 2
}

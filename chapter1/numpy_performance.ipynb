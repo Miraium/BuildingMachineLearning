{
 "cells": [
  {
   "cell_type": "code",
   "execution_count": 21,
   "metadata": {
    "collapsed": true
   },
   "outputs": [],
   "source": [
    "# 1~1000までの数の二乗和を100000回計算した合計時間を記録\n",
    "# Python標準の配列とNumPy配列の速度差を確認する\n",
    "import timeit\n",
    "normal_py_sec = timeit.timeit(\"sum(x*x for x in range(1000))\",number=10000)\n",
    "naive_np_sec = timeit.timeit(\"sum(na*na)\",setup=\"import numpy as np; na=np.arange(1000)\",number=10000)\n",
    "good_np_sec = timeit.timeit(\"na.dot(na)\",setup=\"import numpy as np; na=np.arange(1000)\",number=10000)"
   ]
  },
  {
   "cell_type": "code",
   "execution_count": 22,
   "metadata": {
    "collapsed": false
   },
   "outputs": [
    {
     "name": "stdout",
     "output_type": "stream",
     "text": [
      "Normal Python: 0.6410859870600234 sec (x 1.000000)\n",
      "Naive NumPy  : 0.5603530267393353 sec (x 1.144075)\n",
      "Good NumPy   : 0.008742285555399576 sec (x 73.331623)\n"
     ]
    }
   ],
   "source": [
    "# NumPyに用意されている関数を用いると超高速\n",
    "print(\"Normal Python: {0} sec (x {1:3f})\".format(normal_py_sec,1))\n",
    "print(\"Naive NumPy  : {0} sec (x {1:3f})\".format(naive_np_sec,normal_py_sec/naive_np_sec))\n",
    "print(\"Good NumPy   : {0} sec (x {1:3f})\".format(good_np_sec,normal_py_sec/good_np_sec))"
   ]
  },
  {
   "cell_type": "code",
   "execution_count": 25,
   "metadata": {
    "collapsed": false
   },
   "outputs": [
    {
     "data": {
      "text/plain": [
       "dtype('int32')"
      ]
     },
     "execution_count": 25,
     "metadata": {},
     "output_type": "execute_result"
    }
   ],
   "source": [
    "# ただし，Python標準の配列と異なり，基本的には配列のデータタイプは1種類のみ\n",
    "import numpy as np\n",
    "a = np.array([1,2,3])\n",
    "a.dtype"
   ]
  },
  {
   "cell_type": "code",
   "execution_count": 26,
   "metadata": {
    "collapsed": false
   },
   "outputs": [
    {
     "data": {
      "text/plain": [
       "array(['1', 'stringy'], \n",
       "      dtype='<U11')"
      ]
     },
     "execution_count": 26,
     "metadata": {},
     "output_type": "execute_result"
    }
   ],
   "source": [
    "# 異なるデータタイプを入れると自動的に全体をカバーするような汎用的なデータタイプとなる\n",
    "np.array([1,\"stringy\"])"
   ]
  },
  {
   "cell_type": "code",
   "execution_count": 27,
   "metadata": {
    "collapsed": false
   },
   "outputs": [
    {
     "data": {
      "text/plain": [
       "array([1, 'stringy', {1, 2, 3}], dtype=object)"
      ]
     },
     "execution_count": 27,
     "metadata": {},
     "output_type": "execute_result"
    }
   ],
   "source": [
    "np.array([1,\"stringy\",set([1,2,3])])"
   ]
  },
  {
   "cell_type": "code",
   "execution_count": null,
   "metadata": {
    "collapsed": true
   },
   "outputs": [],
   "source": []
  }
 ],
 "metadata": {
  "kernelspec": {
   "display_name": "Python 3",
   "language": "python",
   "name": "python3"
  },
  "language_info": {
   "codemirror_mode": {
    "name": "ipython",
    "version": 3
   },
   "file_extension": ".py",
   "mimetype": "text/x-python",
   "name": "python",
   "nbconvert_exporter": "python",
   "pygments_lexer": "ipython3",
   "version": "3.5.1"
  }
 },
 "nbformat": 4,
 "nbformat_minor": 2
}
